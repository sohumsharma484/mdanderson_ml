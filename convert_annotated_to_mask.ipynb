{
 "cells": [
  {
   "cell_type": "code",
   "execution_count": 12,
   "metadata": {},
   "outputs": [],
   "source": [
    "# !pip install opencv-python\n",
    "import cv2\n",
    "import numpy as np\n",
    "import matplotlib.pyplot as plt\n",
    "from utils import *\n",
    "import pickle"
   ]
  },
  {
   "cell_type": "code",
   "execution_count": 21,
   "metadata": {},
   "outputs": [
    {
     "name": "stdout",
     "output_type": "stream",
     "text": [
      "W31-1-1-E.03/W31-1-1-E.03_301587752_MECOM\n",
      "\n",
      "W31-1-1-E.03/W31-1-1-E.03_301587231_TGFBR2\n",
      "\n",
      "W31-1-1-E.03/W31-1-1-E.03_301587408_IGFBP2\n",
      "\n",
      "W31-1-1-E.03/W31-1-1-E.03_301587770_CD44\n",
      "\n",
      "W31-1-1-E.03/W31-1-1-E.03_301587580_CD44\n",
      "\n"
     ]
    }
   ],
   "source": [
    "# Convert each annoated image to mask using one hot encoding\n",
    "with open(\"filenames.txt\", \"r\") as f:\n",
    "    for line in f.readlines():\n",
    "        print(line)\n",
    "        line = line.strip()\n",
    "        img = cv2.imread(line + \"_ISH.jpg\")   \n",
    "        annotated = cv2.imread(line + \"_annotated.jpg\")\n",
    "        annotated = cv2.cvtColor(annotated, cv2.COLOR_BGR2HSV)\n",
    "\n",
    "        # HSV color ranges for each tumor region\n",
    "        colorOptions = [\n",
    "            [\"Infiltrating Tumor\", np.array([148, 100, 20], dtype=\"uint8\"), np.array([152, 255, 255], dtype=\"uint8\")],\n",
    "            [\"Perinecrotic zone\", np.array([96, 100, 210], dtype=\"uint8\"), np.array([98, 255, 255], dtype=\"uint8\")],\n",
    "            [\"Leading Edge\", np.array([94, 100, 20], dtype=\"uint8\"), np.array([95, 255, 200], dtype=\"uint8\")],\n",
    "            [\"Pseudopalisading cells but no visible necrosis\", np.array([119, 100, 20], dtype=\"uint8\"), np.array([121, 255, 255], dtype=\"uint8\")],\n",
    "            [\"Cellular Tumor\", np.array([60, 100, 20], dtype=\"uint8\"), np.array([62, 255, 255], dtype=\"uint8\")],\n",
    "            ['Necrosis', np.array([0, 0, 0], dtype=\"uint8\"), np.array([10, 10, 10], dtype=\"uint8\")],\n",
    "            ['Microvascular proliferation', np.array([4, 50, 20], dtype=\"uint8\"), np.array([6, 255, 255], dtype=\"uint8\")],\n",
    "            ['Hyperplastic blood vessels', np.array([11, 50, 20], dtype=\"uint8\"), np.array([12, 255, 255], dtype=\"uint8\")],\n",
    "            ['Pseudopalisading cells around necrosis', np.array([83, 50, 20], dtype=\"uint8\"), np.array([85, 255, 255], dtype=\"uint8\")]\n",
    "        ]\n",
    "\n",
    "        # 0 will represet white background\n",
    "        mask = np.zeros((img.shape[0], img.shape[1]))\n",
    "\n",
    "        i = 1\n",
    "        for colorOption in colorOptions:\n",
    "            color_mask = cv2.inRange(annotated, colorOption[1], colorOption[2])\n",
    "            mask[color_mask > 0] = i\n",
    "            i += 1\n",
    "        cv2.imwrite(line + \"_mask.png\", mask) \n",
    "\n"
   ]
  },
  {
   "cell_type": "code",
   "execution_count": 4,
   "metadata": {},
   "outputs": [
    {
     "ename": "",
     "evalue": "",
     "output_type": "error",
     "traceback": [
      "\u001b[1;31mThe Kernel crashed while executing code in the current cell or a previous cell. \n",
      "\u001b[1;31mPlease review the code in the cell(s) to identify a possible cause of the failure. \n",
      "\u001b[1;31mClick <a href='https://aka.ms/vscodeJupyterKernelCrash'>here</a> for more info. \n",
      "\u001b[1;31mView Jupyter <a href='command:jupyter.viewOutput'>log</a> for further details."
     ]
    }
   ],
   "source": [
    "# convert filenames to dictionary and save as piclle file\n",
    "import pickle\n",
    "index_to_filename = {}\n",
    "i = 0\n",
    "with open(\"filenames.txt\", \"r\") as f:\n",
    "    for line in f.readlines():\n",
    "        index_to_filename[i] = line.strip()\n",
    "        i += 1\n",
    "with open('index_to_filenames.pkl', 'wb') as f:\n",
    "    pickle.dump(index_to_filename, f, pickle.HIGHEST_PROTOCOL)"
   ]
  }
 ],
 "metadata": {
  "kernelspec": {
   "display_name": "mdanderson",
   "language": "python",
   "name": "python3"
  },
  "language_info": {
   "codemirror_mode": {
    "name": "ipython",
    "version": 3
   },
   "file_extension": ".py",
   "mimetype": "text/x-python",
   "name": "python",
   "nbconvert_exporter": "python",
   "pygments_lexer": "ipython3",
   "version": "3.12.5"
  }
 },
 "nbformat": 4,
 "nbformat_minor": 2
}
